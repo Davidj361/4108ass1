{
  "nbformat": 4,
  "nbformat_minor": 0,
  "metadata": {
    "colab": {
      "name": "project1.ipynb",
      "provenance": [],
      "collapsed_sections": [],
      "toc_visible": true,
      "include_colab_link": true
    },
    "kernelspec": {
      "name": "python3",
      "display_name": "Python 3"
    }
  },
  "cells": [
    {
      "cell_type": "markdown",
      "metadata": {
        "id": "view-in-github",
        "colab_type": "text"
      },
      "source": [
        "<a href=\"https://colab.research.google.com/github/Davidj361/4108ass1/blob/master/project1.ipynb\" target=\"_parent\"><img src=\"https://colab.research.google.com/assets/colab-badge.svg\" alt=\"Open In Colab\"/></a>"
      ]
    },
    {
      "cell_type": "markdown",
      "metadata": {
        "id": "Dm7tAgCwmY5F"
      },
      "source": [
        "**Libraries**"
      ]
    },
    {
      "cell_type": "code",
      "metadata": {
        "id": "DcSi9iwD95vb"
      },
      "source": [
        "from google.colab import drive\n",
        "drive.mount('/content/gdrive')"
      ],
      "execution_count": null,
      "outputs": []
    },
    {
      "cell_type": "code",
      "metadata": {
        "id": "uufVtJbVmclh"
      },
      "source": [
        "import numpy as np, pandas as pd, matplotlib.pyplot as plt, random\n"
      ],
      "execution_count": null,
      "outputs": []
    },
    {
      "cell_type": "markdown",
      "metadata": {
        "id": "N1McRyDMmZ5_"
      },
      "source": [
        "**Data**"
      ]
    },
    {
      "cell_type": "code",
      "metadata": {
        "id": "wfKe-JKDmfoh"
      },
      "source": [
        "dataset = pd.read_csv('hepatitis.csv')\n",
        "X = dataset.iloc[:, :-1].values\n",
        "y = dataset.iloc[:, -1].values\n",
        "dataset2 = pd.read_csv('bankrupcy.csv')\n",
        "X1 = dataset.iloc[:, :-1].values\n",
        "y2 = dataset.iloc[:, -1].values"
      ],
      "execution_count": null,
      "outputs": []
    },
    {
      "cell_type": "markdown",
      "metadata": {
        "id": "nKiu3-RTkjMr"
      },
      "source": [
        "# New Section"
      ]
    },
    {
      "cell_type": "code",
      "metadata": {
        "id": "w9WHF_Xtm86C",
        "outputId": "1142b72e-66e9-4d2d-d141-57c87bfd5306",
        "colab": {
          "base_uri": "https://localhost:8080/",
          "height": 136
        }
      },
      "source": [
        "print(X) "
      ],
      "execution_count": null,
      "outputs": [
        {
          "output_type": "stream",
          "text": [
            "[[30.   2.   1.  ...  4.  61.   1. ]\n",
            " [50.   1.   1.  ...  3.5 61.   1. ]\n",
            " [78.   1.   2.  ...  4.  61.   1. ]\n",
            " ...\n",
            " [61.   1.   1.  ...  4.1 61.   2. ]\n",
            " [53.   2.   1.  ...  4.1 48.   2. ]\n",
            " [43.   1.   2.  ...  3.1 42.   2. ]]\n"
          ],
          "name": "stdout"
        }
      ]
    },
    {
      "cell_type": "code",
      "metadata": {
        "id": "xg06l5g7m_Ig",
        "outputId": "9af9dca3-f980-4048-94f4-b0ae79e8ca98",
        "colab": {
          "base_uri": "https://localhost:8080/",
          "height": 85
        }
      },
      "source": [
        "print(y)"
      ],
      "execution_count": null,
      "outputs": [
        {
          "output_type": "stream",
          "text": [
            "[1 1 1 1 1 0 1 1 1 1 1 1 1 1 1 1 1 1 1 1 1 1 1 1 1 1 1 1 1 0 1 1 1 0 1 1 1\n",
            " 1 1 1 1 1 1 1 1 1 1 1 1 1 1 1 1 1 1 1 1 1 1 1 1 1 1 0 1 1 1 0 1 1 1 0 1 1\n",
            " 1 1 1 1 1 1 0 0 0 1 1 0 1 0 1 1 1 0 1 0 1 1 1 0 1 1 1 0 1 0 1 1 1 1 1 1 1\n",
            " 0 1 1 1 1 1 0 1 0 1 0 1 1 0 1 1 1 0 1 1 1 0 0 1 1 1 0 1 1 1 0]\n"
          ],
          "name": "stdout"
        }
      ]
    },
    {
      "cell_type": "code",
      "metadata": {
        "id": "P0itkc588dN5",
        "outputId": "19077886-d99d-42d4-ce6a-d2f5f823445e",
        "colab": {
          "base_uri": "https://localhost:8080/",
          "height": 136
        }
      },
      "source": [
        "print(X1)"
      ],
      "execution_count": null,
      "outputs": [
        {
          "output_type": "stream",
          "text": [
            "[[30.   2.   1.  ...  4.  61.   1. ]\n",
            " [50.   1.   1.  ...  3.5 61.   1. ]\n",
            " [78.   1.   2.  ...  4.  61.   1. ]\n",
            " ...\n",
            " [61.   1.   1.  ...  4.1 61.   2. ]\n",
            " [53.   2.   1.  ...  4.1 48.   2. ]\n",
            " [43.   1.   2.  ...  3.1 42.   2. ]]\n"
          ],
          "name": "stdout"
        }
      ]
    },
    {
      "cell_type": "code",
      "metadata": {
        "id": "p6Ywotuj8lBW",
        "outputId": "d64ff8dc-d622-45e5-fa01-bd034757f2fc",
        "colab": {
          "base_uri": "https://localhost:8080/",
          "height": 85
        }
      },
      "source": [
        "print(y2)"
      ],
      "execution_count": null,
      "outputs": [
        {
          "output_type": "stream",
          "text": [
            "[1 1 1 1 1 0 1 1 1 1 1 1 1 1 1 1 1 1 1 1 1 1 1 1 1 1 1 1 1 0 1 1 1 0 1 1 1\n",
            " 1 1 1 1 1 1 1 1 1 1 1 1 1 1 1 1 1 1 1 1 1 1 1 1 1 1 0 1 1 1 0 1 1 1 0 1 1\n",
            " 1 1 1 1 1 1 0 0 0 1 1 0 1 0 1 1 1 0 1 0 1 1 1 0 1 1 1 0 1 0 1 1 1 1 1 1 1\n",
            " 0 1 1 1 1 1 0 1 0 1 0 1 1 0 1 1 1 0 1 1 1 0 0 1 1 1 0 1 1 1 0]\n"
          ],
          "name": "stdout"
        }
      ]
    },
    {
      "cell_type": "code",
      "metadata": {
        "id": "0Fx3QGhvkxRc",
        "outputId": "94f8d778-faf0-4fd4-f502-0ef2580dcb52",
        "colab": {
          "base_uri": "https://localhost:8080/",
          "height": 136
        }
      },
      "source": [
        "X2 = np.transpose(X)\n",
        "print(X2)"
      ],
      "execution_count": null,
      "outputs": [
        {
          "output_type": "stream",
          "text": [
            "[[30.  50.  78.  ... 61.  53.  43. ]\n",
            " [ 2.   1.   1.  ...  1.   2.   1. ]\n",
            " [ 1.   1.   2.  ...  1.   1.   2. ]\n",
            " ...\n",
            " [ 4.   3.5  4.  ...  4.1  4.1  3.1]\n",
            " [61.  61.  61.  ... 61.  48.  42. ]\n",
            " [ 1.   1.   1.  ...  2.   2.   2. ]]\n"
          ],
          "name": "stdout"
        }
      ]
    },
    {
      "cell_type": "markdown",
      "metadata": {
        "id": "Xfu9Q2C67O14"
      },
      "source": [
        "**Split data into training and test set**\n"
      ]
    }
  ]
}